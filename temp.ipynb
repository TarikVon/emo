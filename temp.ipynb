{
 "cells": [
  {
   "cell_type": "code",
   "execution_count": 1,
   "metadata": {},
   "outputs": [],
   "source": [
    "import jupyter_black\n",
    "from IPython.display import display\n",
    "\n",
    "\n",
    "jupyter_black.load(line_length=999)"
   ]
  },
  {
   "cell_type": "code",
   "execution_count": 2,
   "metadata": {},
   "outputs": [],
   "source": [
    "import os\n",
    "import pandas as pd\n",
    "import numpy as np\n",
    "from datetime import datetime\n",
    "from tqdm.notebook import tqdm"
   ]
  },
  {
   "cell_type": "code",
   "execution_count": 3,
   "metadata": {},
   "outputs": [
    {
     "name": "stdout",
     "output_type": "stream",
     "text": [
      "  SID     Timestamp   Column1   Column2   Column3\n",
      "0  hm  07:22:26.993  6.326678  3.201048 -6.657078\n",
      "1  hm  07:22:26.993  6.326678  3.201048 -6.657078\n",
      "2  hm  07:22:27.012  6.579865  3.186084 -6.359000\n",
      "3  hm  07:22:26.993  6.326678  3.201048 -6.657078\n",
      "4  hm  07:22:27.012  6.579865  3.186084 -6.359000\n"
     ]
    }
   ],
   "source": [
    "date = pd.read_csv(\"data_csv/ACCELERATION/2024.11.05.csv\")\n",
    "print(date.head())"
   ]
  },
  {
   "cell_type": "code",
   "execution_count": null,
   "metadata": {},
   "outputs": [],
   "source": [
    "def clean_incremental_timestamps(df: pd.DataFrame, bar: bool = False):\n",
    "    cleaned_data = []\n",
    "    grouped = df.groupby(\"SID\")\n",
    "\n",
    "    for sid, group in grouped:\n",
    "        previous_time = None\n",
    "\n",
    "        for _, row in tqdm(group.iterrows(), total=len(group)) if bar else group.iterrows():\n",
    "            try:\n",
    "                current_time = datetime.strptime(row[\"Timestamp\"], \"%H:%M:%S.%f\")\n",
    "                if previous_time is None or current_time > previous_time:\n",
    "                    cleaned_data.append(row)\n",
    "                    previous_time = current_time\n",
    "            except ValueError:\n",
    "                continue\n",
    "\n",
    "    return pd.DataFrame(cleaned_data, columns=df.columns)"
   ]
  },
  {
   "cell_type": "code",
   "execution_count": 8,
   "metadata": {},
   "outputs": [
    {
     "data": {
      "application/vnd.jupyter.widget-view+json": {
       "model_id": "a9cc3fdb35bf4bae82acfa514f5475d0",
       "version_major": 2,
       "version_minor": 0
      },
      "text/plain": [
       "  0%|          | 0/734149 [00:00<?, ?it/s]"
      ]
     },
     "metadata": {},
     "output_type": "display_data"
    },
    {
     "data": {
      "application/vnd.jupyter.widget-view+json": {
       "model_id": "f014de82c19c457ab739a71c7cc83f53",
       "version_major": 2,
       "version_minor": 0
      },
      "text/plain": [
       "  0%|          | 0/291570 [00:00<?, ?it/s]"
      ]
     },
     "metadata": {},
     "output_type": "display_data"
    },
    {
     "data": {
      "text/html": [
       "<div>\n",
       "<style scoped>\n",
       "    .dataframe tbody tr th:only-of-type {\n",
       "        vertical-align: middle;\n",
       "    }\n",
       "\n",
       "    .dataframe tbody tr th {\n",
       "        vertical-align: top;\n",
       "    }\n",
       "\n",
       "    .dataframe thead th {\n",
       "        text-align: right;\n",
       "    }\n",
       "</style>\n",
       "<table border=\"1\" class=\"dataframe\">\n",
       "  <thead>\n",
       "    <tr style=\"text-align: right;\">\n",
       "      <th></th>\n",
       "      <th>SID</th>\n",
       "      <th>Timestamp</th>\n",
       "      <th>Column1</th>\n",
       "      <th>Column2</th>\n",
       "      <th>Column3</th>\n",
       "    </tr>\n",
       "  </thead>\n",
       "  <tbody>\n",
       "    <tr>\n",
       "      <th>0</th>\n",
       "      <td>gzj</td>\n",
       "      <td>2024-11-05 09:04:00</td>\n",
       "      <td>0.046955</td>\n",
       "      <td>1.547882</td>\n",
       "      <td>9.767433</td>\n",
       "    </tr>\n",
       "    <tr>\n",
       "      <th>1</th>\n",
       "      <td>gzj</td>\n",
       "      <td>2024-11-05 09:05:00</td>\n",
       "      <td>0.047049</td>\n",
       "      <td>1.546342</td>\n",
       "      <td>9.790846</td>\n",
       "    </tr>\n",
       "    <tr>\n",
       "      <th>2</th>\n",
       "      <td>gzj</td>\n",
       "      <td>2024-11-05 09:06:00</td>\n",
       "      <td>0.048713</td>\n",
       "      <td>1.546277</td>\n",
       "      <td>9.807136</td>\n",
       "    </tr>\n",
       "    <tr>\n",
       "      <th>3</th>\n",
       "      <td>gzj</td>\n",
       "      <td>2024-11-05 09:07:00</td>\n",
       "      <td>0.623564</td>\n",
       "      <td>2.571579</td>\n",
       "      <td>9.362404</td>\n",
       "    </tr>\n",
       "    <tr>\n",
       "      <th>4</th>\n",
       "      <td>gzj</td>\n",
       "      <td>2024-11-05 09:08:00</td>\n",
       "      <td>0.259619</td>\n",
       "      <td>2.536268</td>\n",
       "      <td>9.469775</td>\n",
       "    </tr>\n",
       "    <tr>\n",
       "      <th>...</th>\n",
       "      <td>...</td>\n",
       "      <td>...</td>\n",
       "      <td>...</td>\n",
       "      <td>...</td>\n",
       "      <td>...</td>\n",
       "    </tr>\n",
       "    <tr>\n",
       "      <th>1374</th>\n",
       "      <td>hm</td>\n",
       "      <td>2024-11-05 22:44:00</td>\n",
       "      <td>0.148401</td>\n",
       "      <td>4.977747</td>\n",
       "      <td>8.069240</td>\n",
       "    </tr>\n",
       "    <tr>\n",
       "      <th>1375</th>\n",
       "      <td>hm</td>\n",
       "      <td>2024-11-05 22:45:00</td>\n",
       "      <td>0.205018</td>\n",
       "      <td>4.762940</td>\n",
       "      <td>8.229225</td>\n",
       "    </tr>\n",
       "    <tr>\n",
       "      <th>1376</th>\n",
       "      <td>hm</td>\n",
       "      <td>2024-11-05 22:46:00</td>\n",
       "      <td>0.261635</td>\n",
       "      <td>4.548134</td>\n",
       "      <td>8.389209</td>\n",
       "    </tr>\n",
       "    <tr>\n",
       "      <th>1377</th>\n",
       "      <td>hm</td>\n",
       "      <td>2024-11-05 22:47:00</td>\n",
       "      <td>1.967541</td>\n",
       "      <td>4.924504</td>\n",
       "      <td>8.170405</td>\n",
       "    </tr>\n",
       "    <tr>\n",
       "      <th>1378</th>\n",
       "      <td>hm</td>\n",
       "      <td>2024-11-05 22:48:00</td>\n",
       "      <td>0.642779</td>\n",
       "      <td>2.139920</td>\n",
       "      <td>9.047325</td>\n",
       "    </tr>\n",
       "  </tbody>\n",
       "</table>\n",
       "<p>1379 rows × 5 columns</p>\n",
       "</div>"
      ],
      "text/plain": [
       "      SID           Timestamp   Column1   Column2   Column3\n",
       "0     gzj 2024-11-05 09:04:00  0.046955  1.547882  9.767433\n",
       "1     gzj 2024-11-05 09:05:00  0.047049  1.546342  9.790846\n",
       "2     gzj 2024-11-05 09:06:00  0.048713  1.546277  9.807136\n",
       "3     gzj 2024-11-05 09:07:00  0.623564  2.571579  9.362404\n",
       "4     gzj 2024-11-05 09:08:00  0.259619  2.536268  9.469775\n",
       "...   ...                 ...       ...       ...       ...\n",
       "1374   hm 2024-11-05 22:44:00  0.148401  4.977747  8.069240\n",
       "1375   hm 2024-11-05 22:45:00  0.205018  4.762940  8.229225\n",
       "1376   hm 2024-11-05 22:46:00  0.261635  4.548134  8.389209\n",
       "1377   hm 2024-11-05 22:47:00  1.967541  4.924504  8.170405\n",
       "1378   hm 2024-11-05 22:48:00  0.642779  2.139920  9.047325\n",
       "\n",
       "[1379 rows x 5 columns]"
      ]
     },
     "execution_count": 8,
     "metadata": {},
     "output_type": "execute_result"
    }
   ],
   "source": [
    "def process_time_window(df, date_str, window=\"1min\", interpolate=False):\n",
    "    # 1. Data Preprocessing\n",
    "    df[\"Timestamp\"] = pd.to_datetime(date_str + \" \" + df[\"Timestamp\"])\n",
    "    df = df.set_index(\"Timestamp\")\n",
    "\n",
    "    # 2. Group and Resample\n",
    "    def resample_group(group):\n",
    "        return group.resample(window).mean()\n",
    "\n",
    "    df_resampled = df.groupby(\"SID\").apply(resample_group)\n",
    "\n",
    "    if interpolate:\n",
    "        df_resampled = df_resampled.interpolate(method=\"linear\")\n",
    "\n",
    "    return df_resampled.reset_index()\n",
    "\n",
    "\n",
    "date_str = \"2024.11.05\"\n",
    "date = clean_incremental_timestamps(date, bar=True)\n",
    "\n",
    "processed_df = process_time_window(date.copy(), date_str, window=\"1min\", interpolate=True)\n",
    "processed_df"
   ]
  }
 ],
 "metadata": {
  "kernelspec": {
   "display_name": "sl",
   "language": "python",
   "name": "python3"
  },
  "language_info": {
   "codemirror_mode": {
    "name": "ipython",
    "version": 3
   },
   "file_extension": ".py",
   "mimetype": "text/x-python",
   "name": "python",
   "nbconvert_exporter": "python",
   "pygments_lexer": "ipython3",
   "version": "3.9.21"
  }
 },
 "nbformat": 4,
 "nbformat_minor": 2
}
