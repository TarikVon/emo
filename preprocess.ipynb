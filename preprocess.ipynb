{
 "cells": [
  {
   "cell_type": "code",
   "execution_count": 1,
   "metadata": {},
   "outputs": [],
   "source": [
    "import jupyter_black\n",
    "from IPython.display import display\n",
    "\n",
    "\n",
    "jupyter_black.load(line_length=999)"
   ]
  },
  {
   "cell_type": "code",
   "execution_count": 2,
   "metadata": {},
   "outputs": [],
   "source": [
    "import os\n",
    "import pandas as pd\n",
    "import torch\n",
    "import torchvision\n",
    "from tqdm.notebook import tqdm"
   ]
  },
  {
   "cell_type": "code",
   "execution_count": 3,
   "metadata": {},
   "outputs": [],
   "source": [
    "class Person:\n",
    "    features_type1 = [\n",
    "        \"ACCELERATION\",\n",
    "        \"GYROSCOPE\",\n",
    "        \"LIGHT\",\n",
    "        \"LOCATION\",\n",
    "        \"ORIENTATION\",\n",
    "        \"PROXIMITY\",\n",
    "        \"STEPS\",\n",
    "    ]\n",
    "\n",
    "    features_type2 = [\n",
    "        \"BLUETOOTH\",\n",
    "        \"CALL_RECORDS\",\n",
    "    ]\n",
    "\n",
    "    def __init__(self, sid: str):\n",
    "        self.sid = sid\n",
    "        self.path = os.path.join(os.getcwd(), \"dataset\", sid)\n",
    "        self.date_folders = os.listdir(self.path)\n",
    "\n",
    "    def load(self, date_folder: str, feature: str):\n",
    "        file_path = os.path.join(self.path, date_folder, f\"{feature}.txt\")\n",
    "        if os.path.exists(file_path):\n",
    "            if feature in self.features_type1:\n",
    "                return self._read_type1(file_path)\n",
    "            elif feature in self.features_type2:\n",
    "                return self._read_type2(file_path)\n",
    "        else:\n",
    "            return pd.DataFrame()\n",
    "\n",
    "    @staticmethod\n",
    "    def _read_type1(file_path: str):\n",
    "        with open(file_path, \"r\") as file:\n",
    "            lines = file.readlines()\n",
    "\n",
    "        check = len(lines[0].strip().split(\"|\"))\n",
    "        columns = [\"Timestamp\"] + [f\"Column{i}\" for i in range(1, check)]\n",
    "        data = []\n",
    "        for line in lines:\n",
    "            row = line.strip().split(\"|\")\n",
    "            if len(row) == check:\n",
    "                data.append(row)\n",
    "\n",
    "        df = pd.DataFrame(data, columns=columns)\n",
    "        for column in columns[1:]:\n",
    "            try:\n",
    "                df[column] = df[column].astype(float)\n",
    "            except ValueError:\n",
    "                pass\n",
    "        return df\n",
    "\n",
    "    @staticmethod\n",
    "    def _read_type2(file_path: str):\n",
    "        return 0\n",
    "\n",
    "    def dump(self, dir_path: str, bar: bool = False):\n",
    "        os.makedirs(dir_path, exist_ok=True)\n",
    "\n",
    "        date_folders = tqdm(self.date_folders) if bar else self.date_folders\n",
    "\n",
    "        for date_folder in date_folders:\n",
    "            # for feature in self.features_type1 + self.features_type2:\n",
    "            for feature in self.features_type1:\n",
    "                df = self.load(date_folder, feature)\n",
    "                if not df.empty:\n",
    "                    df.insert(0, \"SID\", self.sid)\n",
    "                    feature_dir = os.path.join(dir_path, feature)\n",
    "                    os.makedirs(feature_dir, exist_ok=True)\n",
    "                    output_path = os.path.join(feature_dir, f\"{date_folder}.csv\")\n",
    "                    df.to_csv(output_path, index=False)"
   ]
  },
  {
   "cell_type": "code",
   "execution_count": 4,
   "metadata": {},
   "outputs": [
    {
     "data": {
      "application/vnd.jupyter.widget-view+json": {
       "model_id": "1047db90c4204689ab882abd252985f9",
       "version_major": 2,
       "version_minor": 0
      },
      "text/plain": [
       "  0%|          | 0/35 [00:00<?, ?it/s]"
      ]
     },
     "metadata": {},
     "output_type": "display_data"
    }
   ],
   "source": [
    "person = Person(\"mzy\")\n",
    "\n",
    "# for date_folder in tqdm(person.date_folders):\n",
    "#     for feature in tqdm(person.features_type1):\n",
    "#         df = person.load(date_folder, feature)\n",
    "\n",
    "person.dump(\"dataset_csv\", bar=True)"
   ]
  }
 ],
 "metadata": {
  "kernelspec": {
   "display_name": "sl",
   "language": "python",
   "name": "python3"
  },
  "language_info": {
   "codemirror_mode": {
    "name": "ipython",
    "version": 3
   },
   "file_extension": ".py",
   "mimetype": "text/x-python",
   "name": "python",
   "nbconvert_exporter": "python",
   "pygments_lexer": "ipython3",
   "version": "3.9.21"
  }
 },
 "nbformat": 4,
 "nbformat_minor": 2
}
