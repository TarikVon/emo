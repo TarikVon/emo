{
 "cells": [
  {
   "cell_type": "code",
   "execution_count": 1,
   "metadata": {},
   "outputs": [],
   "source": [
    "import jupyter_black\n",
    "from IPython.display import display\n",
    "\n",
    "\n",
    "jupyter_black.load(line_length=999)"
   ]
  },
  {
   "cell_type": "code",
   "execution_count": 2,
   "metadata": {},
   "outputs": [],
   "source": [
    "import os\n",
    "import pandas as pd\n",
    "from tqdm.notebook import tqdm"
   ]
  },
  {
   "cell_type": "code",
   "execution_count": 3,
   "metadata": {},
   "outputs": [],
   "source": [
    "class Person:\n",
    "    features_type1 = [\n",
    "        \"ACCELERATION\",\n",
    "        \"GYROSCOPE\",\n",
    "        \"LIGHT\",\n",
    "        \"LOCATION\",\n",
    "        \"ORIENTATION\",\n",
    "        \"PROXIMITY\",\n",
    "        \"STEPS\",\n",
    "    ]\n",
    "\n",
    "    features_type2 = [\n",
    "        \"BLUETOOTH\",\n",
    "        \"CALL_RECORDS\",\n",
    "    ]\n",
    "\n",
    "    def __init__(self, sid: str):\n",
    "        self.sid = sid\n",
    "        self.path = os.path.join(os.getcwd(), \"data\", sid)\n",
    "        self.date_folders = os.listdir(self.path)\n",
    "\n",
    "    def load(self, date_folder: str, feature: str):\n",
    "        featur = feature.upper()\n",
    "        file_path = os.path.join(self.path, date_folder, f\"{feature}.txt\")\n",
    "        if os.path.exists(file_path):\n",
    "            if feature in self.features_type1:\n",
    "                return self._read_type1(file_path)\n",
    "            elif feature in self.features_type2:\n",
    "                return self._read_type2(file_path)\n",
    "        else:\n",
    "            return pd.DataFrame()\n",
    "\n",
    "    @staticmethod\n",
    "    def _read_type1(file_path: str):\n",
    "        with open(file_path, \"r\") as file:\n",
    "            lines = file.readlines()\n",
    "\n",
    "        check = len(lines[0].strip().split(\"|\"))\n",
    "        columns = [\"Timestamp\"] + [f\"Column{i}\" for i in range(1, check)]\n",
    "        data = []\n",
    "        for line in lines:\n",
    "            row = line.strip().replace(\",\", \"\").split(\"|\")\n",
    "            if len(row) == check:\n",
    "                data.append(row)\n",
    "\n",
    "        df = pd.DataFrame(data, columns=columns)\n",
    "        for column in columns[1:]:\n",
    "            try:\n",
    "                df[column] = df[column].astype(float)\n",
    "            except ValueError:\n",
    "                pass\n",
    "        return df\n",
    "\n",
    "    @staticmethod\n",
    "    def _read_type2(file_path: str):\n",
    "        with open(file_path, \"r\") as file:\n",
    "            lines = file.readlines()\n",
    "\n",
    "        data = []\n",
    "        current_timestamp = None\n",
    "        max_columns = 0\n",
    "\n",
    "        for line in lines:\n",
    "            line = line.strip().replace(\",\", \"\")\n",
    "            if line and line[0].isdigit() and len(line.split(\"|\")) == 1:\n",
    "                current_timestamp = line\n",
    "            elif line:\n",
    "                features = line.split(\"|\")\n",
    "                if len(features) == 3 and current_timestamp is not None:\n",
    "                    data.append([current_timestamp] + features)\n",
    "                    max_columns = max(max_columns, len(features) + 1)\n",
    "                elif len(features) == 4:\n",
    "                    data.append(features)\n",
    "                    max_columns = max(max_columns, len(features))\n",
    "\n",
    "        if max_columns == 4:\n",
    "            columns = [f\"Column{i}\" for i in range(1, max_columns + 1)]\n",
    "        else:\n",
    "            columns = [\"Timestamp\"] + [f\"Column{i}\" for i in range(1, max_columns)]\n",
    "        df = pd.DataFrame(data, columns=columns)\n",
    "        return df\n",
    "\n",
    "    def dump(self, dir_path: str, bar: bool = False):\n",
    "        os.makedirs(dir_path, exist_ok=True)\n",
    "\n",
    "        date_folders = tqdm(self.date_folders, desc=\"Processing by dates\") if bar else self.date_folders\n",
    "        for date_folder in date_folders:\n",
    "            for feature in self.features_type1 + self.features_type2:\n",
    "                df = self.load(date_folder, feature)\n",
    "                if not df.empty:\n",
    "                    df.insert(0, \"SID\", self.sid)\n",
    "                    feature_dir = os.path.join(dir_path, feature)\n",
    "                    os.makedirs(feature_dir, exist_ok=True)\n",
    "                    output_path = os.path.join(feature_dir, f\"{date_folder}.csv\")\n",
    "\n",
    "                    if os.path.exists(output_path):\n",
    "                        existing_df = pd.read_csv(output_path)\n",
    "                        combined_df = pd.concat([existing_df, df], ignore_index=True)\n",
    "                        combined_df.to_csv(output_path, index=False)\n",
    "                    else:\n",
    "                        df.to_csv(output_path, index=False)"
   ]
  },
  {
   "cell_type": "code",
   "execution_count": 4,
   "metadata": {},
   "outputs": [
    {
     "data": {
      "application/vnd.jupyter.widget-view+json": {
       "model_id": "c5ec44134cc34578a5693d5837ad0efc",
       "version_major": 2,
       "version_minor": 0
      },
      "text/plain": [
       "Processing by persons:   0%|          | 0/2 [00:00<?, ?it/s]"
      ]
     },
     "metadata": {},
     "output_type": "display_data"
    },
    {
     "data": {
      "application/vnd.jupyter.widget-view+json": {
       "model_id": "c426e2a5801d47e08309880340d45e8d",
       "version_major": 2,
       "version_minor": 0
      },
      "text/plain": [
       "Processing by dates:   0%|          | 0/15 [00:00<?, ?it/s]"
      ]
     },
     "metadata": {},
     "output_type": "display_data"
    },
    {
     "data": {
      "application/vnd.jupyter.widget-view+json": {
       "model_id": "0d1af18601134c6785faa37a7cdee5a4",
       "version_major": 2,
       "version_minor": 0
      },
      "text/plain": [
       "Processing by dates:   0%|          | 0/9 [00:00<?, ?it/s]"
      ]
     },
     "metadata": {},
     "output_type": "display_data"
    }
   ],
   "source": [
    "# for date_folder in tqdm(person.date_folders):\n",
    "#     for feature in tqdm(person.features_type1):\n",
    "#         df = person.load(date_folder, feature)\n",
    "\n",
    "sids = [\"gzj\", \"hm\"]\n",
    "for sid in tqdm(sids, desc=\"Processing by persons\"):\n",
    "    person = Person(sid)\n",
    "    person.dump(\"data_csv\", bar=True)"
   ]
  }
 ],
 "metadata": {
  "kernelspec": {
   "display_name": "sl",
   "language": "python",
   "name": "python3"
  },
  "language_info": {
   "codemirror_mode": {
    "name": "ipython",
    "version": 3
   },
   "file_extension": ".py",
   "mimetype": "text/x-python",
   "name": "python",
   "nbconvert_exporter": "python",
   "pygments_lexer": "ipython3",
   "version": "3.9.21"
  }
 },
 "nbformat": 4,
 "nbformat_minor": 2
}
